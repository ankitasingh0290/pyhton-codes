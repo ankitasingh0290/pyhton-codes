{
  "nbformat": 4,
  "nbformat_minor": 0,
  "metadata": {
    "colab": {
      "name": "artificial I.ipynb",
      "provenance": [],
      "authorship_tag": "ABX9TyP6GoPhDFteEoIeGS74qpbv",
      "include_colab_link": true
    },
    "kernelspec": {
      "name": "python3",
      "display_name": "Python 3"
    }
  },
  "cells": [
    {
      "cell_type": "markdown",
      "metadata": {
        "id": "view-in-github",
        "colab_type": "text"
      },
      "source": [
        "<a href=\"https://colab.research.google.com/github/ankitasingh0290/trial1/blob/master/artificial_I.ipynb\" target=\"_parent\"><img src=\"https://colab.research.google.com/assets/colab-badge.svg\" alt=\"Open In Colab\"/></a>"
      ]
    },
    {
      "cell_type": "code",
      "metadata": {
        "id": "PNTq-qtSULUP"
      },
      "source": [
        "import tensorflow as tf\r\n",
        "from tensorflow import keras\r\n",
        "import pandas as pd\r\n",
        "import sklearn\r\n",
        "import sys"
      ],
      "execution_count": 1,
      "outputs": []
    },
    {
      "cell_type": "code",
      "metadata": {
        "colab": {
          "base_uri": "https://localhost:8080/"
        },
        "id": "KvLw0ZUcAwJA",
        "outputId": "179009d1-6eab-4f04-a913-c5cd22c28223"
      },
      "source": [
        "print (tf.__version__)"
      ],
      "execution_count": 3,
      "outputs": [
        {
          "output_type": "stream",
          "text": [
            "2.4.0\n"
          ],
          "name": "stdout"
        }
      ]
    },
    {
      "cell_type": "code",
      "metadata": {
        "id": "jDuen2xOBNtX"
      },
      "source": [
        "(x_train,y_train),(x_val,y_val)=keras.datasets.fashion_mnist.load_data()"
      ],
      "execution_count": null,
      "outputs": []
    },
    {
      "cell_type": "code",
      "metadata": {
        "id": "nhagP48fBxxP"
      },
      "source": [
        "def preprocess(x,y):\r\n",
        "  x=tf.cast(x,tf.float32)/255.0\r\n",
        "  y=tf.cast(y,tf.int64)\r\n",
        "  return x,y\r\n",
        "\r\n",
        "def create_dataset(xs,ys, n_classes=10):\r\n",
        "  ys=tf.one_hot(ys,depth=n_classes)\r\n",
        "  return tf.data.Dataset.from_tensor_slices((xs,ys)).map(preprocess).shuffle(len(ys)).batch(128)"
      ],
      "execution_count": 5,
      "outputs": []
    },
    {
      "cell_type": "code",
      "metadata": {
        "id": "ZPQM_U7QDPEo"
      },
      "source": [
        "train_data_set= create_dataset(x_train,y_train)\r\n",
        "validation_data_set= create_dataset(x_val,y_val)"
      ],
      "execution_count": 6,
      "outputs": []
    },
    {
      "cell_type": "code",
      "metadata": {
        "id": "3QyRA2ABD6SY"
      },
      "source": [
        "first_model= keras.Sequential([\r\n",
        "                               keras.layers.Reshape(target_shape=(28 * 28,),input_shape=(28, 28)),\r\n",
        "                               keras.layers.Dense(units=256, activation='relu'),\r\n",
        "                               keras.layers.Dense(units=192,activation='relu'),\r\n",
        "                               keras.layers.Dense(units=128,activation='relu'),\r\n",
        "                               keras.layers.Dense(units=10,activation='softmax')\r\n",
        "])"
      ],
      "execution_count": 9,
      "outputs": []
    },
    {
      "cell_type": "code",
      "metadata": {
        "colab": {
          "base_uri": "https://localhost:8080/"
        },
        "id": "rwVnZUN8FhkQ",
        "outputId": "b540807c-c077-4120-fcce-a83b2569112e"
      },
      "source": [
        "first_model.compile(optimizer='adam',loss=tf.losses.CategoricalCrossentropy(from_logits=True),metrics=['accuracy'])\r\n",
        "history=first_model.fit(\r\n",
        "    train_data_set.repeat(),\r\n",
        "    epochs=15,\r\n",
        "    steps_per_epoch=500,\r\n",
        "    validation_data= validation_data_set.repeat(),\r\n",
        "    validation_steps=2 \r\n",
        ")"
      ],
      "execution_count": 12,
      "outputs": [
        {
          "output_type": "stream",
          "text": [
            "Epoch 1/15\n",
            "500/500 [==============================] - 11s 16ms/step - loss: 0.6748 - accuracy: 0.7642 - val_loss: 0.3563 - val_accuracy: 0.8516\n",
            "Epoch 2/15\n",
            "500/500 [==============================] - 7s 14ms/step - loss: 0.3778 - accuracy: 0.8614 - val_loss: 0.4096 - val_accuracy: 0.8633\n",
            "Epoch 3/15\n",
            "500/500 [==============================] - 8s 15ms/step - loss: 0.3265 - accuracy: 0.8792 - val_loss: 0.3883 - val_accuracy: 0.8672\n",
            "Epoch 4/15\n",
            "500/500 [==============================] - 7s 15ms/step - loss: 0.3009 - accuracy: 0.8877 - val_loss: 0.2671 - val_accuracy: 0.8906\n",
            "Epoch 5/15\n",
            "500/500 [==============================] - 7s 14ms/step - loss: 0.2836 - accuracy: 0.8934 - val_loss: 0.4391 - val_accuracy: 0.8516\n",
            "Epoch 6/15\n",
            "500/500 [==============================] - 9s 18ms/step - loss: 0.2679 - accuracy: 0.8988 - val_loss: 0.3183 - val_accuracy: 0.8594\n",
            "Epoch 7/15\n",
            "500/500 [==============================] - 7s 15ms/step - loss: 0.2557 - accuracy: 0.9045 - val_loss: 0.3672 - val_accuracy: 0.8555\n",
            "Epoch 8/15\n",
            "500/500 [==============================] - 7s 15ms/step - loss: 0.2485 - accuracy: 0.9059 - val_loss: 0.2887 - val_accuracy: 0.8906\n",
            "Epoch 9/15\n",
            "500/500 [==============================] - 7s 14ms/step - loss: 0.2345 - accuracy: 0.9120 - val_loss: 0.2897 - val_accuracy: 0.9062\n",
            "Epoch 10/15\n",
            "500/500 [==============================] - 7s 15ms/step - loss: 0.2250 - accuracy: 0.9153 - val_loss: 0.2813 - val_accuracy: 0.9023\n",
            "Epoch 11/15\n",
            "500/500 [==============================] - 7s 15ms/step - loss: 0.2129 - accuracy: 0.9206 - val_loss: 0.3574 - val_accuracy: 0.8906\n",
            "Epoch 12/15\n",
            "500/500 [==============================] - 7s 14ms/step - loss: 0.2064 - accuracy: 0.9228 - val_loss: 0.3862 - val_accuracy: 0.8711\n",
            "Epoch 13/15\n",
            "500/500 [==============================] - 7s 13ms/step - loss: 0.2009 - accuracy: 0.9245 - val_loss: 0.3784 - val_accuracy: 0.8945\n",
            "Epoch 14/15\n",
            "500/500 [==============================] - 5s 11ms/step - loss: 0.1910 - accuracy: 0.9276 - val_loss: 0.2086 - val_accuracy: 0.9258\n",
            "Epoch 15/15\n",
            "500/500 [==============================] - 7s 13ms/step - loss: 0.1783 - accuracy: 0.9326 - val_loss: 0.2781 - val_accuracy: 0.9141\n"
          ],
          "name": "stdout"
        }
      ]
    },
    {
      "cell_type": "code",
      "metadata": {
        "id": "ou2AsIppHu0Q"
      },
      "source": [
        "predicted_value= first_model.predict(validation_data_set)"
      ],
      "execution_count": 14,
      "outputs": []
    },
    {
      "cell_type": "code",
      "metadata": {
        "colab": {
          "base_uri": "https://localhost:8080/"
        },
        "id": "jmVx-YYhH-zO",
        "outputId": "aee7c1a7-6ec2-4e4b-9d6f-39c14d3f7432"
      },
      "source": [
        "print (predicted_value[1])"
      ],
      "execution_count": 17,
      "outputs": [
        {
          "output_type": "stream",
          "text": [
            "[6.7579954e-08 6.6444145e-10 9.4868013e-10 1.1007895e-07 1.7085309e-06\n",
            " 5.4393184e-10 7.9918925e-09 1.7267854e-10 9.9999809e-01 1.9060074e-10]\n"
          ],
          "name": "stdout"
        }
      ]
    },
    {
      "cell_type": "code",
      "metadata": {
        "colab": {
          "base_uri": "https://localhost:8080/"
        },
        "id": "BRN1psRFIHhq",
        "outputId": "0704db9f-11a1-4777-961c-94c35dd8fccb"
      },
      "source": [
        "import numpy as np\r\n",
        "np.argmax(predicted_value[1])"
      ],
      "execution_count": 18,
      "outputs": [
        {
          "output_type": "execute_result",
          "data": {
            "text/plain": [
              "8"
            ]
          },
          "metadata": {
            "tags": []
          },
          "execution_count": 18
        }
      ]
    }
  ]
}