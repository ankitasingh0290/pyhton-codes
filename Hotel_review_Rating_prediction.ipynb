{
  "nbformat": 4,
  "nbformat_minor": 0,
  "metadata": {
    "colab": {
      "name": "Hotel_review_Rating_prediction.ipynb",
      "provenance": [],
      "toc_visible": true,
      "authorship_tag": "ABX9TyO9APm1hxvF7/WtSntBkBv+",
      "include_colab_link": true
    },
    "kernelspec": {
      "name": "python3",
      "display_name": "Python 3"
    }
  },
  "cells": [
    {
      "cell_type": "markdown",
      "metadata": {
        "id": "view-in-github",
        "colab_type": "text"
      },
      "source": [
        "<a href=\"https://colab.research.google.com/github/ankitasingh0290/pyhton-codes/blob/master/Hotel_review_Rating_prediction.ipynb\" target=\"_parent\"><img src=\"https://colab.research.google.com/assets/colab-badge.svg\" alt=\"Open In Colab\"/></a>"
      ]
    },
    {
      "cell_type": "code",
      "metadata": {
        "id": "_bfCt1-Ir9dZ"
      },
      "source": [
        "import xgboost\n",
        "import pandas as pd\n",
        "import numpy as np\n",
        "import pickle\n",
        "import matplotlib.pyplot as plt\n",
        "\n",
        "from sklearn.model_selection import train_test_split\n",
        "from sklearn.feature_extraction.text import CountVectorizer\n",
        "from nltk.tokenize import word_tokenize\n",
        "from sklearn.feature_extraction.text import TfidfVectorizer\n",
        "from sklearn.naive_bayes import MultinomialNB\n",
        "\n",
        "from sklearn.linear_model import LogisticRegression\n",
        "from sklearn.ensemble import RandomForestClassifier\n",
        "from sklearn.linear_model import SGDClassifier\n",
        "\n",
        "from sklearn.svm import LinearSVC\n",
        "from sklearn.ensemble import GradientBoostingClassifier\n",
        "from xgboost.sklearn import XGBClassifier\n",
        "\n",
        "\n",
        "\n",
        "from sklearn.model_selection import cross_val_score\n",
        "from sklearn.metrics import confusion_matrix\n",
        "from sklearn import metrics\n",
        "from sklearn.metrics import classification_report\n",
        "from sklearn.linear_model import SGDClassifier\n",
        "from nltk.tokenize import word_tokenize\n",
        "from collections import  Counter"
      ],
      "execution_count": 37,
      "outputs": []
    },
    {
      "cell_type": "code",
      "metadata": {
        "colab": {
          "base_uri": "https://localhost:8080/",
          "height": 419
        },
        "id": "dE2eF0tWtB_x",
        "outputId": "f842aafb-4885-4f26-ce74-3f826a6275b4"
      },
      "source": [
        "#read pickle file\n",
        "train_data= pd.read_pickle(\"/content/train_first_data.pkl\")\n",
        "train_data"
      ],
      "execution_count": 3,
      "outputs": [
        {
          "output_type": "execute_result",
          "data": {
            "text/html": [
              "<div>\n",
              "<style scoped>\n",
              "    .dataframe tbody tr th:only-of-type {\n",
              "        vertical-align: middle;\n",
              "    }\n",
              "\n",
              "    .dataframe tbody tr th {\n",
              "        vertical-align: top;\n",
              "    }\n",
              "\n",
              "    .dataframe thead th {\n",
              "        text-align: right;\n",
              "    }\n",
              "</style>\n",
              "<table border=\"1\" class=\"dataframe\">\n",
              "  <thead>\n",
              "    <tr style=\"text-align: right;\">\n",
              "      <th></th>\n",
              "      <th>ID</th>\n",
              "      <th>Review</th>\n",
              "      <th>Rating</th>\n",
              "    </tr>\n",
              "  </thead>\n",
              "  <tbody>\n",
              "    <tr>\n",
              "      <th>0</th>\n",
              "      <td>0</td>\n",
              "      <td>exceptional service nice daughter priced king ...</td>\n",
              "      <td>5</td>\n",
              "    </tr>\n",
              "    <tr>\n",
              "      <th>1</th>\n",
              "      <td>1</td>\n",
              "      <td>beautiful relaxing jw marriott desert ridge ou...</td>\n",
              "      <td>5</td>\n",
              "    </tr>\n",
              "    <tr>\n",
              "      <th>2</th>\n",
              "      <td>2</td>\n",
              "      <td>location location min subway take blommingdale...</td>\n",
              "      <td>5</td>\n",
              "    </tr>\n",
              "    <tr>\n",
              "      <th>3</th>\n",
              "      <td>3</td>\n",
              "      <td>pleased nice safe flower market vast array res...</td>\n",
              "      <td>3</td>\n",
              "    </tr>\n",
              "    <tr>\n",
              "      <th>4</th>\n",
              "      <td>4</td>\n",
              "      <td>excellent service excellent location couple mi...</td>\n",
              "      <td>4</td>\n",
              "    </tr>\n",
              "    <tr>\n",
              "      <th>...</th>\n",
              "      <td>...</td>\n",
              "      <td>...</td>\n",
              "      <td>...</td>\n",
              "    </tr>\n",
              "    <tr>\n",
              "      <th>14338</th>\n",
              "      <td>14338</td>\n",
              "      <td>madrid perfect location tiny quiet street cent...</td>\n",
              "      <td>5</td>\n",
              "    </tr>\n",
              "    <tr>\n",
              "      <th>14339</th>\n",
              "      <td>14339</td>\n",
              "      <td>excellent florence chosen tripadviser hidden g...</td>\n",
              "      <td>5</td>\n",
              "    </tr>\n",
              "    <tr>\n",
              "      <th>14340</th>\n",
              "      <td>14340</td>\n",
              "      <td>place relax vacation book trip paradisus husba...</td>\n",
              "      <td>4</td>\n",
              "    </tr>\n",
              "    <tr>\n",
              "      <th>14341</th>\n",
              "      <td>14341</td>\n",
              "      <td>week seattle loved minute pacific plaza buy im...</td>\n",
              "      <td>3</td>\n",
              "    </tr>\n",
              "    <tr>\n",
              "      <th>14342</th>\n",
              "      <td>14342</td>\n",
              "      <td>clear internet reservation friday rang hour ad...</td>\n",
              "      <td>1</td>\n",
              "    </tr>\n",
              "  </tbody>\n",
              "</table>\n",
              "<p>14343 rows × 3 columns</p>\n",
              "</div>"
            ],
            "text/plain": [
              "          ID                                             Review  Rating\n",
              "0          0  exceptional service nice daughter priced king ...       5\n",
              "1          1  beautiful relaxing jw marriott desert ridge ou...       5\n",
              "2          2  location location min subway take blommingdale...       5\n",
              "3          3  pleased nice safe flower market vast array res...       3\n",
              "4          4  excellent service excellent location couple mi...       4\n",
              "...      ...                                                ...     ...\n",
              "14338  14338  madrid perfect location tiny quiet street cent...       5\n",
              "14339  14339  excellent florence chosen tripadviser hidden g...       5\n",
              "14340  14340  place relax vacation book trip paradisus husba...       4\n",
              "14341  14341  week seattle loved minute pacific plaza buy im...       3\n",
              "14342  14342  clear internet reservation friday rang hour ad...       1\n",
              "\n",
              "[14343 rows x 3 columns]"
            ]
          },
          "metadata": {
            "tags": []
          },
          "execution_count": 3
        }
      ]
    },
    {
      "cell_type": "code",
      "metadata": {
        "colab": {
          "base_uri": "https://localhost:8080/",
          "height": 367
        },
        "id": "FbZ2X_rlvvHH",
        "outputId": "5bb3a136-fb6e-4fec-cbca-0f975545f2d1"
      },
      "source": [
        "#plot the word length of reviews\n",
        "word_length= pd.DataFrame({'doc_length': train_data.Review.apply(lambda x: len(x.split()))})\n",
        "\n",
        "# Group the documents based on their number of words (i.e. length)\n",
        "grouped = word_length.groupby('doc_length')\n",
        "\n",
        "indices = grouped.indices\n",
        "word_count = []\n",
        "doc_count = []\n",
        "counter = 0\n",
        "for w,d in indices.items():\n",
        "    word_count.append(w)\n",
        "    doc_count.append(len(d))\n",
        "\n",
        "# Plot the distribution of words vs documents in the corpus\n",
        "plt.figure(figsize=(8,5))\n",
        "plt.plot(word_count, doc_count)\n",
        "plt.xlabel('Word count in document')\n",
        "plt.ylabel('Number of Documents')\n",
        "plt.title('Word count vs Number of documents')"
      ],
      "execution_count": 4,
      "outputs": [
        {
          "output_type": "execute_result",
          "data": {
            "text/plain": [
              "Text(0.5, 1.0, 'Word count vs Number of documents')"
            ]
          },
          "metadata": {
            "tags": []
          },
          "execution_count": 4
        },
        {
          "output_type": "display_data",
          "data": {
            "image/png": "[encoded data removed]",
            "text/plain": [
              "<Figure size 576x360 with 1 Axes>"
            ]
          },
          "metadata": {
            "tags": [],
            "needs_background": "light"
          }
        }
      ]
    },
    {
      "cell_type": "code",
      "metadata": {
        "id": "Hx_iCfv4v5iW"
      },
      "source": [
        "train_data[\"word_length\"]=word_length"
      ],
      "execution_count": 5,
      "outputs": []
    },
    {
      "cell_type": "code",
      "metadata": {
        "colab": {
          "base_uri": "https://localhost:8080/",
          "height": 419
        },
        "id": "hIkos39Zv5qu",
        "outputId": "8ea6b801-c046-460c-eb59-5ecd4a07ebd1"
      },
      "source": [
        "train_data[train_data[\"word_length\"]>100]"
      ],
      "execution_count": 6,
      "outputs": [
        {
          "output_type": "execute_result",
          "data": {
            "text/html": [
              "<div>\n",
              "<style scoped>\n",
              "    .dataframe tbody tr th:only-of-type {\n",
              "        vertical-align: middle;\n",
              "    }\n",
              "\n",
              "    .dataframe tbody tr th {\n",
              "        vertical-align: top;\n",
              "    }\n",
              "\n",
              "    .dataframe thead th {\n",
              "        text-align: right;\n",
              "    }\n",
              "</style>\n",
              "<table border=\"1\" class=\"dataframe\">\n",
              "  <thead>\n",
              "    <tr style=\"text-align: right;\">\n",
              "      <th></th>\n",
              "      <th>ID</th>\n",
              "      <th>Review</th>\n",
              "      <th>Rating</th>\n",
              "      <th>word_length</th>\n",
              "    </tr>\n",
              "  </thead>\n",
              "  <tbody>\n",
              "    <tr>\n",
              "      <th>8</th>\n",
              "      <td>8</td>\n",
              "      <td>march wonderful relaxing vacation catalonia ma...</td>\n",
              "      <td>4</td>\n",
              "      <td>126</td>\n",
              "    </tr>\n",
              "    <tr>\n",
              "      <th>14</th>\n",
              "      <td>14</td>\n",
              "      <td>beautiful return start kind scared read everyo...</td>\n",
              "      <td>4</td>\n",
              "      <td>240</td>\n",
              "    </tr>\n",
              "    <tr>\n",
              "      <th>17</th>\n",
              "      <td>17</td>\n",
              "      <td>impression maile sky court bit small adequate ...</td>\n",
              "      <td>4</td>\n",
              "      <td>105</td>\n",
              "    </tr>\n",
              "    <tr>\n",
              "      <th>23</th>\n",
              "      <td>23</td>\n",
              "      <td>definately princess boyfriend night barcelona ...</td>\n",
              "      <td>5</td>\n",
              "      <td>176</td>\n",
              "    </tr>\n",
              "    <tr>\n",
              "      <th>34</th>\n",
              "      <td>34</td>\n",
              "      <td>high rise high price night october book intern...</td>\n",
              "      <td>3</td>\n",
              "      <td>104</td>\n",
              "    </tr>\n",
              "    <tr>\n",
              "      <th>...</th>\n",
              "      <td>...</td>\n",
              "      <td>...</td>\n",
              "      <td>...</td>\n",
              "      <td>...</td>\n",
              "    </tr>\n",
              "    <tr>\n",
              "      <th>14326</th>\n",
              "      <td>14326</td>\n",
              "      <td>awesome trip whats checked site everyday left ...</td>\n",
              "      <td>5</td>\n",
              "      <td>118</td>\n",
              "    </tr>\n",
              "    <tr>\n",
              "      <th>14328</th>\n",
              "      <td>14328</td>\n",
              "      <td>star beware smoking room booked package read r...</td>\n",
              "      <td>1</td>\n",
              "      <td>113</td>\n",
              "    </tr>\n",
              "    <tr>\n",
              "      <th>14333</th>\n",
              "      <td>14333</td>\n",
              "      <td>ahead husband sister yr daughter witnessed top...</td>\n",
              "      <td>5</td>\n",
              "      <td>154</td>\n",
              "    </tr>\n",
              "    <tr>\n",
              "      <th>14334</th>\n",
              "      <td>14334</td>\n",
              "      <td>star star location reception pleasant cheerful...</td>\n",
              "      <td>4</td>\n",
              "      <td>145</td>\n",
              "    </tr>\n",
              "    <tr>\n",
              "      <th>14340</th>\n",
              "      <td>14340</td>\n",
              "      <td>place relax vacation book trip paradisus husba...</td>\n",
              "      <td>4</td>\n",
              "      <td>178</td>\n",
              "    </tr>\n",
              "  </tbody>\n",
              "</table>\n",
              "<p>3132 rows × 4 columns</p>\n",
              "</div>"
            ],
            "text/plain": [
              "          ID  ... word_length\n",
              "8          8  ...         126\n",
              "14        14  ...         240\n",
              "17        17  ...         105\n",
              "23        23  ...         176\n",
              "34        34  ...         104\n",
              "...      ...  ...         ...\n",
              "14326  14326  ...         118\n",
              "14328  14328  ...         113\n",
              "14333  14333  ...         154\n",
              "14334  14334  ...         145\n",
              "14340  14340  ...         178\n",
              "\n",
              "[3132 rows x 4 columns]"
            ]
          },
          "metadata": {
            "tags": []
          },
          "execution_count": 6
        }
      ]
    },
    {
      "cell_type": "code",
      "metadata": {
        "id": "CVR1Bs0fv5yS"
      },
      "source": [
        "#Remove the reviews word length>200\n",
        "train_data.drop(train_data[(train_data.word_length > 100)&(train_data.Rating==5)].index, inplace = True)"
      ],
      "execution_count": 7,
      "outputs": []
    },
    {
      "cell_type": "code",
      "metadata": {
        "colab": {
          "base_uri": "https://localhost:8080/",
          "height": 419
        },
        "id": "xGXU_nW5v54S",
        "outputId": "d0f6017b-da5e-4b61-9ebe-a31c2d7351e3"
      },
      "source": [
        "train_data"
      ],
      "execution_count": 8,
      "outputs": [
        {
          "output_type": "execute_result",
          "data": {
            "text/html": [
              "<div>\n",
              "<style scoped>\n",
              "    .dataframe tbody tr th:only-of-type {\n",
              "        vertical-align: middle;\n",
              "    }\n",
              "\n",
              "    .dataframe tbody tr th {\n",
              "        vertical-align: top;\n",
              "    }\n",
              "\n",
              "    .dataframe thead th {\n",
              "        text-align: right;\n",
              "    }\n",
              "</style>\n",
              "<table border=\"1\" class=\"dataframe\">\n",
              "  <thead>\n",
              "    <tr style=\"text-align: right;\">\n",
              "      <th></th>\n",
              "      <th>ID</th>\n",
              "      <th>Review</th>\n",
              "      <th>Rating</th>\n",
              "      <th>word_length</th>\n",
              "    </tr>\n",
              "  </thead>\n",
              "  <tbody>\n",
              "    <tr>\n",
              "      <th>0</th>\n",
              "      <td>0</td>\n",
              "      <td>exceptional service nice daughter priced king ...</td>\n",
              "      <td>5</td>\n",
              "      <td>98</td>\n",
              "    </tr>\n",
              "    <tr>\n",
              "      <th>1</th>\n",
              "      <td>1</td>\n",
              "      <td>beautiful relaxing jw marriott desert ridge ou...</td>\n",
              "      <td>5</td>\n",
              "      <td>83</td>\n",
              "    </tr>\n",
              "    <tr>\n",
              "      <th>2</th>\n",
              "      <td>2</td>\n",
              "      <td>location location min subway take blommingdale...</td>\n",
              "      <td>5</td>\n",
              "      <td>47</td>\n",
              "    </tr>\n",
              "    <tr>\n",
              "      <th>3</th>\n",
              "      <td>3</td>\n",
              "      <td>pleased nice safe flower market vast array res...</td>\n",
              "      <td>3</td>\n",
              "      <td>40</td>\n",
              "    </tr>\n",
              "    <tr>\n",
              "      <th>4</th>\n",
              "      <td>4</td>\n",
              "      <td>excellent service excellent location couple mi...</td>\n",
              "      <td>4</td>\n",
              "      <td>24</td>\n",
              "    </tr>\n",
              "    <tr>\n",
              "      <th>...</th>\n",
              "      <td>...</td>\n",
              "      <td>...</td>\n",
              "      <td>...</td>\n",
              "      <td>...</td>\n",
              "    </tr>\n",
              "    <tr>\n",
              "      <th>14338</th>\n",
              "      <td>14338</td>\n",
              "      <td>madrid perfect location tiny quiet street cent...</td>\n",
              "      <td>5</td>\n",
              "      <td>23</td>\n",
              "    </tr>\n",
              "    <tr>\n",
              "      <th>14339</th>\n",
              "      <td>14339</td>\n",
              "      <td>excellent florence chosen tripadviser hidden g...</td>\n",
              "      <td>5</td>\n",
              "      <td>39</td>\n",
              "    </tr>\n",
              "    <tr>\n",
              "      <th>14340</th>\n",
              "      <td>14340</td>\n",
              "      <td>place relax vacation book trip paradisus husba...</td>\n",
              "      <td>4</td>\n",
              "      <td>178</td>\n",
              "    </tr>\n",
              "    <tr>\n",
              "      <th>14341</th>\n",
              "      <td>14341</td>\n",
              "      <td>week seattle loved minute pacific plaza buy im...</td>\n",
              "      <td>3</td>\n",
              "      <td>22</td>\n",
              "    </tr>\n",
              "    <tr>\n",
              "      <th>14342</th>\n",
              "      <td>14342</td>\n",
              "      <td>clear internet reservation friday rang hour ad...</td>\n",
              "      <td>1</td>\n",
              "      <td>40</td>\n",
              "    </tr>\n",
              "  </tbody>\n",
              "</table>\n",
              "<p>13135 rows × 4 columns</p>\n",
              "</div>"
            ],
            "text/plain": [
              "          ID  ... word_length\n",
              "0          0  ...          98\n",
              "1          1  ...          83\n",
              "2          2  ...          47\n",
              "3          3  ...          40\n",
              "4          4  ...          24\n",
              "...      ...  ...         ...\n",
              "14338  14338  ...          23\n",
              "14339  14339  ...          39\n",
              "14340  14340  ...         178\n",
              "14341  14341  ...          22\n",
              "14342  14342  ...          40\n",
              "\n",
              "[13135 rows x 4 columns]"
            ]
          },
          "metadata": {
            "tags": []
          },
          "execution_count": 8
        }
      ]
    },
    {
      "cell_type": "code",
      "metadata": {
        "colab": {
          "base_uri": "https://localhost:8080/",
          "height": 419
        },
        "id": "9Z9ODsXjv59R",
        "outputId": "8c4c3f14-02ec-4034-d894-a38a0fe1b989"
      },
      "source": [
        "#read pickle file for test data\n",
        "test_data=pd.read_pickle(\"test_df.pkl\")\n",
        "test_data"
      ],
      "execution_count": 9,
      "outputs": [
        {
          "output_type": "execute_result",
          "data": {
            "text/html": [
              "<div>\n",
              "<style scoped>\n",
              "    .dataframe tbody tr th:only-of-type {\n",
              "        vertical-align: middle;\n",
              "    }\n",
              "\n",
              "    .dataframe tbody tr th {\n",
              "        vertical-align: top;\n",
              "    }\n",
              "\n",
              "    .dataframe thead th {\n",
              "        text-align: right;\n",
              "    }\n",
              "</style>\n",
              "<table border=\"1\" class=\"dataframe\">\n",
              "  <thead>\n",
              "    <tr style=\"text-align: right;\">\n",
              "      <th></th>\n",
              "      <th>ID</th>\n",
              "      <th>Review</th>\n",
              "    </tr>\n",
              "  </thead>\n",
              "  <tbody>\n",
              "    <tr>\n",
              "      <th>0</th>\n",
              "      <td>0</td>\n",
              "      <td>just superb rendezvous just perfect property s...</td>\n",
              "    </tr>\n",
              "    <tr>\n",
              "      <th>1</th>\n",
              "      <td>1</td>\n",
              "      <td>better close staten island ferry easy subway  ...</td>\n",
              "    </tr>\n",
              "    <tr>\n",
              "      <th>2</th>\n",
              "      <td>2</td>\n",
              "      <td>enjoyed stay  just come long weekend barcelona...</td>\n",
              "    </tr>\n",
              "    <tr>\n",
              "      <th>3</th>\n",
              "      <td>3</td>\n",
              "      <td>muse great  muse hotel great  did n t hear noi...</td>\n",
              "    </tr>\n",
              "    <tr>\n",
              "      <th>4</th>\n",
              "      <td>4</td>\n",
              "      <td>conveniently located morning flight  family st...</td>\n",
              "    </tr>\n",
              "    <tr>\n",
              "      <th>...</th>\n",
              "      <td>...</td>\n",
              "      <td>...</td>\n",
              "    </tr>\n",
              "    <tr>\n",
              "      <th>6143</th>\n",
              "      <td>6143</td>\n",
              "      <td>great hotel precruise great hotel arrived earl...</td>\n",
              "    </tr>\n",
              "    <tr>\n",
              "      <th>6144</th>\n",
              "      <td>6144</td>\n",
              "      <td>great choice just returned nights grand hotel ...</td>\n",
              "    </tr>\n",
              "    <tr>\n",
              "      <th>6145</th>\n",
              "      <td>6145</td>\n",
              "      <td>overpriced tiny rooms kowloon past use date ne...</td>\n",
              "    </tr>\n",
              "    <tr>\n",
              "      <th>6146</th>\n",
              "      <td>6146</td>\n",
              "      <td>ok  agree said positive staff helpful rooms cl...</td>\n",
              "    </tr>\n",
              "    <tr>\n",
              "      <th>6147</th>\n",
              "      <td>6147</td>\n",
              "      <td>great location husband stayed new orleans     ...</td>\n",
              "    </tr>\n",
              "  </tbody>\n",
              "</table>\n",
              "<p>6148 rows × 2 columns</p>\n",
              "</div>"
            ],
            "text/plain": [
              "        ID                                             Review\n",
              "0        0  just superb rendezvous just perfect property s...\n",
              "1        1  better close staten island ferry easy subway  ...\n",
              "2        2  enjoyed stay  just come long weekend barcelona...\n",
              "3        3  muse great  muse hotel great  did n t hear noi...\n",
              "4        4  conveniently located morning flight  family st...\n",
              "...    ...                                                ...\n",
              "6143  6143  great hotel precruise great hotel arrived earl...\n",
              "6144  6144  great choice just returned nights grand hotel ...\n",
              "6145  6145  overpriced tiny rooms kowloon past use date ne...\n",
              "6146  6146  ok  agree said positive staff helpful rooms cl...\n",
              "6147  6147  great location husband stayed new orleans     ...\n",
              "\n",
              "[6148 rows x 2 columns]"
            ]
          },
          "metadata": {
            "tags": []
          },
          "execution_count": 9
        }
      ]
    },
    {
      "cell_type": "code",
      "metadata": {
        "colab": {
          "base_uri": "https://localhost:8080/",
          "height": 276
        },
        "id": "oHCcSoAnv6Bp",
        "outputId": "7e4741e2-d506-477d-8510-5dae90a6d232"
      },
      "source": [
        "rating_count=train_data.groupby(by='Rating').ID.count()\n",
        "rating_count.plot.bar()\n",
        "plt.show()"
      ],
      "execution_count": 10,
      "outputs": [
        {
          "output_type": "display_data",
          "data": {
            "image/png": "[encoded data removed]",
            "text/plain": [
              "<Figure size 432x288 with 1 Axes>"
            ]
          },
          "metadata": {
            "tags": [],
            "needs_background": "light"
          }
        }
      ]
    },
    {
      "cell_type": "code",
      "metadata": {
        "colab": {
          "base_uri": "https://localhost:8080/",
          "height": 367
        },
        "id": "Yvn50hoTv6F3",
        "outputId": "4051ff36-28a2-42db-e133-f3cd5c9d023e"
      },
      "source": [
        "#plot the word length of reviews\n",
        "word_length= pd.DataFrame({'doc_length': train_data.Review.apply(lambda x: len(x.split()))})\n",
        "\n",
        "# Group the documents based on their number of words (i.e. length)\n",
        "grouped = word_length.groupby('doc_length')\n",
        "\n",
        "indices = grouped.indices\n",
        "word_count = []\n",
        "doc_count = []\n",
        "counter = 0\n",
        "for w,d in indices.items():\n",
        "    word_count.append(w)\n",
        "    doc_count.append(len(d))\n",
        "\n",
        "# Plot the distribution of words vs documents in the corpus\n",
        "plt.figure(figsize=(8,5))\n",
        "plt.plot(word_count, doc_count)\n",
        "plt.xlabel('Word count in document')\n",
        "plt.ylabel('Number of Documents')\n",
        "plt.title('Word count vs Number of documents')"
      ],
      "execution_count": 11,
      "outputs": [
        {
          "output_type": "execute_result",
          "data": {
            "text/plain": [
              "Text(0.5, 1.0, 'Word count vs Number of documents')"
            ]
          },
          "metadata": {
            "tags": []
          },
          "execution_count": 11
        },
        {
          "output_type": "display_data",
          "data": {
            "image/png": "[encoded data removed]",
            "text/plain": [
              "<Figure size 576x360 with 1 Axes>"
            ]
          },
          "metadata": {
            "tags": [],
            "needs_background": "light"
          }
        }
      ]
    },
    {
      "cell_type": "code",
      "metadata": {
        "colab": {
          "base_uri": "https://localhost:8080/"
        },
        "id": "FrompXqrv6Jk",
        "outputId": "0e7c4d17-2c5a-4f10-bc0f-208b84115b50"
      },
      "source": [
        "train_data.groupby(by='Rating').ID.count()"
      ],
      "execution_count": 12,
      "outputs": [
        {
          "output_type": "execute_result",
          "data": {
            "text/plain": [
              "Rating\n",
              "1     977\n",
              "2    1248\n",
              "3    1510\n",
              "4    4172\n",
              "5    5228\n",
              "Name: ID, dtype: int64"
            ]
          },
          "metadata": {
            "tags": []
          },
          "execution_count": 12
        }
      ]
    },
    {
      "cell_type": "code",
      "metadata": {
        "id": "AMWXC0NBv6NK"
      },
      "source": [
        "#splitting the data for trainung and testing\n",
        "X=train_data['Review']\n",
        "y=train_data['Rating']\n",
        "test_X=test_data[\"Review\"]"
      ],
      "execution_count": 13,
      "outputs": []
    },
    {
      "cell_type": "code",
      "metadata": {
        "id": "jE3LtaL0v6QT"
      },
      "source": [
        "#split X and y into training and testing sets\n",
        "from sklearn.model_selection import train_test_split\n",
        "X_train, X_test, y_train, y_test = train_test_split(X, y, random_state=1)"
      ],
      "execution_count": 14,
      "outputs": []
    },
    {
      "cell_type": "code",
      "metadata": {
        "colab": {
          "base_uri": "https://localhost:8080/"
        },
        "id": "CFi9k-Imv6XB",
        "outputId": "ca854932-e4da-4c65-9383-b4718d2f2908"
      },
      "source": [
        "print(X_train.shape)\n",
        "print(X_test.shape)\n",
        "print(y_train.shape)\n",
        "print(y_test.shape)\n"
      ],
      "execution_count": 15,
      "outputs": [
        {
          "output_type": "stream",
          "text": [
            "(9851,)\n",
            "(3284,)\n",
            "(9851,)\n",
            "(3284,)\n"
          ],
          "name": "stdout"
        }
      ]
    },
    {
      "cell_type": "code",
      "metadata": {
        "id": "OYdyozpzv6aJ"
      },
      "source": [
        "#pickle stopwords\n",
        "\n",
        "stop= pd.read_pickle('stp_wrds.pkl')"
      ],
      "execution_count": 16,
      "outputs": []
    },
    {
      "cell_type": "code",
      "metadata": {
        "id": "xqXVAxU8v6dA"
      },
      "source": [
        "from sklearn.utils import class_weight\n",
        "class_weights = class_weight.compute_class_weight('balanced' ,np.unique(y_train),y_train)"
      ],
      "execution_count": 17,
      "outputs": []
    },
    {
      "cell_type": "code",
      "metadata": {
        "id": "jJNdSbrRv6gp"
      },
      "source": [
        "class_weights.sort()"
      ],
      "execution_count": 18,
      "outputs": []
    },
    {
      "cell_type": "code",
      "metadata": {
        "id": "nbePKMtIv6jC"
      },
      "source": [
        "weights={}\n",
        "\n",
        "for index, weight in enumerate(class_weights) :\n",
        "    weights[index]=weight"
      ],
      "execution_count": 19,
      "outputs": []
    },
    {
      "cell_type": "code",
      "metadata": {
        "colab": {
          "base_uri": "https://localhost:8080/"
        },
        "id": "jIRdoxUkv6lk",
        "outputId": "a8a6f101-e89a-482b-fd81-71d6cffee181"
      },
      "source": [
        "weights"
      ],
      "execution_count": 20,
      "outputs": [
        {
          "output_type": "execute_result",
          "data": {
            "text/plain": [
              "{0: 0.5051794871794871,\n",
              " 1: 0.6284529505582137,\n",
              " 2: 1.7222027972027971,\n",
              " 3: 2.109421841541756,\n",
              " 4: 2.669647696476965}"
            ]
          },
          "metadata": {
            "tags": []
          },
          "execution_count": 20
        }
      ]
    },
    {
      "cell_type": "code",
      "metadata": {
        "id": "z1o73Ftkv6oR"
      },
      "source": [
        "weight={1:0.4468120456905504,\n",
        " 2: 0.6825507614213198,\n",
        " 3: 1.915761353517364,\n",
        " 4: 2.3108485499462943,\n",
        " 5: 2.9230978260869565}"
      ],
      "execution_count": 21,
      "outputs": []
    },
    {
      "cell_type": "markdown",
      "metadata": {
        "id": "riJtQK4Ex6xO"
      },
      "source": [
        "\n",
        "Text Representation.Bag of word approach\n"
      ]
    },
    {
      "cell_type": "code",
      "metadata": {
        "colab": {
          "base_uri": "https://localhost:8080/"
        },
        "id": "shRfI7PGyI1W",
        "outputId": "701197f6-1a04-4e87-8782-c602d40c6182"
      },
      "source": [
        "import nltk\n",
        "nltk.download('punkt')"
      ],
      "execution_count": 22,
      "outputs": [
        {
          "output_type": "stream",
          "text": [
            "[nltk_data] Downloading package punkt to /root/nltk_data...\n",
            "[nltk_data]   Package punkt is already up-to-date!\n"
          ],
          "name": "stdout"
        },
        {
          "output_type": "execute_result",
          "data": {
            "text/plain": [
              "True"
            ]
          },
          "metadata": {
            "tags": []
          },
          "execution_count": 22
        }
      ]
    },
    {
      "cell_type": "code",
      "metadata": {
        "colab": {
          "base_uri": "https://localhost:8080/"
        },
        "id": "5z9U0QEmv6rK",
        "outputId": "107ba5ce-fe82-440b-9824-d41fef69afd8"
      },
      "source": [
        "vect=CountVectorizer(tokenizer=word_tokenize,stop_words=stop, max_df=0.75, lowercase=False, ngram_range=(1,2))\n",
        "# learn training data vocabulary, then use it to create a document-term matrix\n",
        "X_train_dtm = vect.fit_transform(X_train)"
      ],
      "execution_count": 23,
      "outputs": [
        {
          "output_type": "stream",
          "text": [
            "/usr/local/lib/python3.6/dist-packages/sklearn/feature_extraction/text.py:385: UserWarning: Your stop_words may be inconsistent with your preprocessing. Tokenizing the stop words generated tokens [\"'d\", \"'ll\", \"'m\", \"'re\", \"'s\", \"'ve\", 'ai', 'ca', \"n't\", 'sha', 'wo'] not in stop_words.\n",
            "  'stop_words.' % sorted(inconsistent))\n"
          ],
          "name": "stderr"
        }
      ]
    },
    {
      "cell_type": "code",
      "metadata": {
        "colab": {
          "base_uri": "https://localhost:8080/"
        },
        "id": "7zS4Fel_v6uk",
        "outputId": "876455cf-9adb-4a1e-a224-06f18ba5cdc2"
      },
      "source": [
        "# transform testing data (using fitted vocabulary) into a document-term matrix\n",
        "X_test_dtm = vect.transform(X_test)\n",
        "X_test_dtm"
      ],
      "execution_count": 24,
      "outputs": [
        {
          "output_type": "execute_result",
          "data": {
            "text/plain": [
              "<3284x430784 sparse matrix of type '<class 'numpy.int64'>'\n",
              "\twith 289175 stored elements in Compressed Sparse Row format>"
            ]
          },
          "metadata": {
            "tags": []
          },
          "execution_count": 24
        }
      ]
    },
    {
      "cell_type": "markdown",
      "metadata": {
        "id": "lBiIkGAoyYcp"
      },
      "source": [
        "**Model building**\n"
      ]
    },
    {
      "cell_type": "markdown",
      "metadata": {
        "id": "qxuzMbTKyl-5"
      },
      "source": [
        "\n",
        "We will use the following four models:\n",
        "Logistic Regression\n",
        "(Multinomial) Naive Bayes\n",
        "Linear Support Vector Machine\n",
        "Xgboost\n",
        "SGD classifier "
      ]
    },
    {
      "cell_type": "code",
      "metadata": {
        "id": "QwBwCq31v60T"
      },
      "source": [
        "def NB_Classifier_result(X, y,X_test,y_test):\n",
        "    NB = MultinomialNB()\n",
        "    NB.fit(X, y)\n",
        "    prediction = NB.predict(X_test)\n",
        "    print(classification_report(prediction, y_test))\n",
        "    print(metrics.accuracy_score(y_test,prediction))\n",
        "    print(\"NB Classifier result:\")\n",
        "    return"
      ],
      "execution_count": 25,
      "outputs": []
    },
    {
      "cell_type": "code",
      "metadata": {
        "id": "cDzmJj1Cy4kD"
      },
      "source": [
        "def LG_Classifier_result(X, y,X_test,y_test):\n",
        "    LG = LogisticRegression()\n",
        "    LG.fit(X,y)\n",
        "    prediction = LG.predict(X_test)\n",
        "    print(classification_report(prediction, y_test))\n",
        "    print(metrics.accuracy_score(y_test,prediction))\n",
        "    print(\" LG Classifier result:\")\n",
        "     \n",
        "    return\n"
      ],
      "execution_count": 26,
      "outputs": []
    },
    {
      "cell_type": "code",
      "metadata": {
        "id": "LNig4a9gy9lo"
      },
      "source": [
        "def SVM_Classifier_result(X, y,X_test,y_test):\n",
        "    SVM = LinearSVC()\n",
        "    SVM.fit(X,y)\n",
        "    prediction = SVM.predict(X_test)\n",
        "    print(classification_report(prediction, y_test))\n",
        "    print(metrics.accuracy_score(y_test,prediction))\n",
        "    print(\" SVM Classifier result:\")\n",
        "    return"
      ],
      "execution_count": 27,
      "outputs": []
    },
    {
      "cell_type": "code",
      "metadata": {
        "id": "XDWzxYNNzC0-"
      },
      "source": [
        "def XG_Classifier_result(X, y,X_test,y_test):\n",
        "    XGB = XGBClassifier(objective='multi:softmax', n_estimators=100, learning_rate=0.3, max_depth=4, subsample=0.8, n_iter_no_change=2, verbosity=1)\n",
        "    XGB.fit(X,y)\n",
        "    prediction = XGB.predict(X_test)\n",
        "    print(classification_report(prediction, y_test))\n",
        "    print(metrics.accuracy_score(y_test,prediction))\n",
        "    print(\" XGB Classifier result:\")\n",
        "    return"
      ],
      "execution_count": 28,
      "outputs": []
    },
    {
      "cell_type": "code",
      "metadata": {
        "id": "sP7cLZGozDXp"
      },
      "source": [
        "def SGD_Classifier_result(X, y,X_test,y_test):\n",
        "    SGD = SGDClassifier(max_iter=1000, tol=0.01)\n",
        "    SGD.fit(X,y)\n",
        "    prediction = SGD.predict(X_test)\n",
        "    print(classification_report(prediction, y_test))\n",
        "    print(metrics.accuracy_score(y_test,prediction))\n",
        "    print(\" SGD Classifier result:\")\n",
        "    return"
      ],
      "execution_count": 29,
      "outputs": []
    },
    {
      "cell_type": "code",
      "metadata": {
        "id": "ypE-kmFizDcM"
      },
      "source": [
        "def RF_Classifier_result(X, y,X_test,y_test):\n",
        "    RF = RandomForestClassifier(n_estimators=100, max_depth=100, min_samples_split=10, n_jobs=-1, verbose=0)\n",
        "    RF.fit(X,y)\n",
        "    prediction = RF.predict(X_test)\n",
        "    print(classification_report(prediction, y_test))\n",
        "    print(metrics.accuracy_score(y_test,prediction))\n",
        "    print(\" RF Classifier result:\")\n",
        "    return"
      ],
      "execution_count": 30,
      "outputs": []
    },
    {
      "cell_type": "markdown",
      "metadata": {
        "id": "E19RLq--zS-e"
      },
      "source": [
        "**Random Oversampling Imbalanced Datasets**"
      ]
    },
    {
      "cell_type": "markdown",
      "metadata": {
        "id": "JNoqw-9UziBp"
      },
      "source": [
        "How to improve the performance?\n",
        "\n",
        "\n",
        "Re-sampling Dataset\n",
        "\n",
        "\n",
        "To make our dataset balanced there are two ways to do so:\n",
        "\n",
        "Under-sampling: Remove samples from over-represented classes ; use this if you have huge dataset\n",
        "\n",
        "Over-sampling: Add more samples from under-represented classes; use this if you have small dataset\n",
        "\n",
        "Random oversampling involves randomly duplicating examples from the minority class and adding them to the training dataset.\n",
        "\n",
        "\n",
        "\n",
        "RandomOverSampler\n",
        "\n",
        "**SMOTE**"
      ]
    },
    {
      "cell_type": "code",
      "metadata": {
        "colab": {
          "base_uri": "https://localhost:8080/"
        },
        "id": "ss9L2MRWzOxE",
        "outputId": "cec89847-cb65-4659-c67d-ff0e5ef6f652"
      },
      "source": [
        "#smote\n",
        "from imblearn.over_sampling import SMOTE\n",
        "smote = SMOTE('minority')\n",
        "\n",
        "X_sm, y_sm = smote.fit_sample(X_train_dtm, y_train)\n",
        "print(X_sm.shape, y_sm.shape)"
      ],
      "execution_count": 31,
      "outputs": [
        {
          "output_type": "stream",
          "text": [
            "/usr/local/lib/python3.6/dist-packages/sklearn/utils/deprecation.py:87: FutureWarning: Function safe_indexing is deprecated; safe_indexing is deprecated in version 0.22 and will be removed in version 0.24.\n",
            "  warnings.warn(msg, category=FutureWarning)\n"
          ],
          "name": "stderr"
        },
        {
          "output_type": "stream",
          "text": [
            "(13013, 430784) (13013,)\n"
          ],
          "name": "stdout"
        }
      ]
    },
    {
      "cell_type": "code",
      "metadata": {
        "colab": {
          "base_uri": "https://localhost:8080/"
        },
        "id": "AuL1LQXSzO4n",
        "outputId": "e5a3f429-2a8f-451c-cb39-91a40952e778"
      },
      "source": [
        "#Random oversampler\n",
        "from imblearn.over_sampling import RandomOverSampler\n",
        "\n",
        "ros = RandomOverSampler()\n",
        "X_ros, y_ros = ros.fit_sample(X_train_dtm, y_train)\n",
        "print(X_ros.shape, y_ros.shape)"
      ],
      "execution_count": 32,
      "outputs": [
        {
          "output_type": "stream",
          "text": [
            "(19500, 430784) (19500,)\n"
          ],
          "name": "stdout"
        },
        {
          "output_type": "stream",
          "text": [
            "/usr/local/lib/python3.6/dist-packages/sklearn/utils/deprecation.py:87: FutureWarning: Function safe_indexing is deprecated; safe_indexing is deprecated in version 0.22 and will be removed in version 0.24.\n",
            "  warnings.warn(msg, category=FutureWarning)\n"
          ],
          "name": "stderr"
        }
      ]
    },
    {
      "cell_type": "code",
      "metadata": {
        "colab": {
          "base_uri": "https://localhost:8080/"
        },
        "id": "o0LknEexzPCO",
        "outputId": "b105e096-5095-4e80-cca5-3f16c55ac2d4"
      },
      "source": [
        "#RandomUnderSampler\n",
        "from imblearn.under_sampling import RandomUnderSampler\n",
        "\n",
        "rus = RandomUnderSampler()\n",
        "X_rus, y_rus= rus.fit_sample(X_train_dtm, y_train)\n",
        "print(X_rus.shape, y_rus.shape)"
      ],
      "execution_count": 33,
      "outputs": [
        {
          "output_type": "stream",
          "text": [
            "(3690, 430784) (3690,)\n"
          ],
          "name": "stdout"
        },
        {
          "output_type": "stream",
          "text": [
            "/usr/local/lib/python3.6/dist-packages/sklearn/utils/deprecation.py:87: FutureWarning: Function safe_indexing is deprecated; safe_indexing is deprecated in version 0.22 and will be removed in version 0.24.\n",
            "  warnings.warn(msg, category=FutureWarning)\n"
          ],
          "name": "stderr"
        }
      ]
    },
    {
      "cell_type": "code",
      "metadata": {
        "colab": {
          "base_uri": "https://localhost:8080/"
        },
        "id": "aURMdhdWzPJq",
        "outputId": "1c616737-15fc-49a1-c504-1e49bcd75423"
      },
      "source": [
        "#TomekLinks\n",
        "from imblearn.under_sampling import TomekLinks\n",
        "\n",
        "tl = TomekLinks('majority')\n",
        "X_tl, y_tl = tl.fit_sample(X_train_dtm, y_train)"
      ],
      "execution_count": 34,
      "outputs": [
        {
          "output_type": "stream",
          "text": [
            "/usr/local/lib/python3.6/dist-packages/sklearn/utils/deprecation.py:87: FutureWarning: Function safe_indexing is deprecated; safe_indexing is deprecated in version 0.22 and will be removed in version 0.24.\n",
            "  warnings.warn(msg, category=FutureWarning)\n"
          ],
          "name": "stderr"
        }
      ]
    },
    {
      "cell_type": "code",
      "metadata": {
        "id": "z-88eTiyzPSm"
      },
      "source": [
        ""
      ],
      "execution_count": 34,
      "outputs": []
    },
    {
      "cell_type": "code",
      "metadata": {
        "colab": {
          "base_uri": "https://localhost:8080/"
        },
        "id": "mX5R9cjJzPaC",
        "outputId": "c82f1e7b-f6df-4236-f85c-916c33dda0fa"
      },
      "source": [
        "#SMOTETomek\n",
        "from imblearn.combine import SMOTETomek\n",
        "\n",
        "smt = SMOTETomek('auto')\n",
        "X_smt, y_smt = smt.fit_sample(X_train_dtm, y_train)"
      ],
      "execution_count": 35,
      "outputs": [
        {
          "output_type": "stream",
          "text": [
            "/usr/local/lib/python3.6/dist-packages/sklearn/utils/deprecation.py:87: FutureWarning: Function safe_indexing is deprecated; safe_indexing is deprecated in version 0.22 and will be removed in version 0.24.\n",
            "  warnings.warn(msg, category=FutureWarning)\n"
          ],
          "name": "stderr"
        }
      ]
    },
    {
      "cell_type": "markdown",
      "metadata": {
        "id": "jIwviH601ZPK"
      },
      "source": [
        "**Pasing imbalanced data(bow)**"
      ]
    },
    {
      "cell_type": "code",
      "metadata": {
        "colab": {
          "base_uri": "https://localhost:8080/"
        },
        "id": "HybPaPTFzPh4",
        "outputId": "1aa445a1-948c-4c54-b633-e17e9113ad78"
      },
      "source": [
        "print(NB_Classifier_result(X_train_dtm, y_train,X_test_dtm,y_test))\n",
        "print(LG_Classifier_result(X_train_dtm, y_train,X_test_dtm,y_test))\n",
        "print(SVM_Classifier_result(X_train_dtm, y_train,X_test_dtm,y_test))\n",
        "print(XG_Classifier_result(X_train_dtm, y_train,X_test_dtm,y_test))\n",
        "print(SGD_Classifier_result(X_train_dtm, y_train,X_test_dtm,y_test))\n",
        "print(RF_Classifier_result(X_train_dtm, y_train,X_test_dtm,y_test))"
      ],
      "execution_count": 38,
      "outputs": [
        {
          "output_type": "stream",
          "text": [
            "/usr/local/lib/python3.6/dist-packages/sklearn/metrics/_classification.py:1272: UndefinedMetricWarning: Recall and F-score are ill-defined and being set to 0.0 in labels with no true samples. Use `zero_division` parameter to control this behavior.\n",
            "  _warn_prf(average, modifier, msg_start, len(result))\n"
          ],
          "name": "stderr"
        },
        {
          "output_type": "stream",
          "text": [
            "              precision    recall  f1-score   support\n",
            "\n",
            "           1       0.06      0.88      0.11        16\n",
            "           2       0.01      0.11      0.01        18\n",
            "           3       0.00      0.00      0.00         0\n",
            "           4       0.72      0.37      0.49      2011\n",
            "           5       0.68      0.73      0.70      1239\n",
            "\n",
            "    accuracy                           0.50      3284\n",
            "   macro avg       0.29      0.42      0.26      3284\n",
            "weighted avg       0.69      0.50      0.56      3284\n",
            "\n",
            "0.5048721071863581\n",
            "NB Classifier result:\n",
            "None\n"
          ],
          "name": "stdout"
        },
        {
          "output_type": "stream",
          "text": [
            "/usr/local/lib/python3.6/dist-packages/sklearn/linear_model/_logistic.py:940: ConvergenceWarning: lbfgs failed to converge (status=1):\n",
            "STOP: TOTAL NO. of ITERATIONS REACHED LIMIT.\n",
            "\n",
            "Increase the number of iterations (max_iter) or scale the data as shown in:\n",
            "    https://scikit-learn.org/stable/modules/preprocessing.html\n",
            "Please also refer to the documentation for alternative solver options:\n",
            "    https://scikit-learn.org/stable/modules/linear_model.html#logistic-regression\n",
            "  extra_warning_msg=_LOGISTIC_SOLVER_CONVERGENCE_MSG)\n"
          ],
          "name": "stderr"
        },
        {
          "output_type": "stream",
          "text": [
            "              precision    recall  f1-score   support\n",
            "\n",
            "           1       0.60      0.64      0.62       225\n",
            "           2       0.31      0.40      0.35       239\n",
            "           3       0.27      0.37      0.31       263\n",
            "           4       0.54      0.55      0.54      1020\n",
            "           5       0.81      0.70      0.75      1537\n",
            "\n",
            "    accuracy                           0.60      3284\n",
            "   macro avg       0.50      0.53      0.51      3284\n",
            "weighted avg       0.63      0.60      0.61      3284\n",
            "\n",
            "0.5992691839220463\n",
            " LG Classifier result:\n",
            "None\n",
            "              precision    recall  f1-score   support\n",
            "\n",
            "           1       0.57      0.63      0.60       218\n",
            "           2       0.25      0.38      0.30       213\n",
            "           3       0.27      0.38      0.31       257\n",
            "           4       0.52      0.53      0.53      1021\n",
            "           5       0.80      0.67      0.73      1575\n",
            "\n",
            "    accuracy                           0.58      3284\n",
            "   macro avg       0.48      0.52      0.49      3284\n",
            "weighted avg       0.62      0.58      0.60      3284\n",
            "\n",
            "0.584652862362972\n",
            " SVM Classifier result:\n",
            "None\n",
            "              precision    recall  f1-score   support\n",
            "\n",
            "           1       0.49      0.59      0.53       198\n",
            "           2       0.28      0.44      0.34       202\n",
            "           3       0.15      0.37      0.21       145\n",
            "           4       0.55      0.52      0.54      1091\n",
            "           5       0.82      0.66      0.74      1648\n",
            "\n",
            "    accuracy                           0.59      3284\n",
            "   macro avg       0.46      0.52      0.47      3284\n",
            "weighted avg       0.65      0.59      0.61      3284\n",
            "\n",
            "0.5861753958587089\n",
            " XGB Classifier result:\n",
            "None\n",
            "              precision    recall  f1-score   support\n",
            "\n",
            "           1       0.55      0.62      0.58       213\n",
            "           2       0.27      0.40      0.33       213\n",
            "           3       0.20      0.32      0.25       228\n",
            "           4       0.59      0.53      0.56      1155\n",
            "           5       0.75      0.67      0.71      1475\n",
            "\n",
            "    accuracy                           0.58      3284\n",
            "   macro avg       0.47      0.51      0.48      3284\n",
            "weighted avg       0.61      0.58      0.59      3284\n",
            "\n",
            "0.5767356881851401\n",
            " SGD Classifier result:\n",
            "None\n",
            "              precision    recall  f1-score   support\n",
            "\n",
            "           1       0.14      0.92      0.24        36\n",
            "           2       0.00      0.00      0.00         0\n",
            "           3       0.00      0.00      0.00         0\n",
            "           4       0.35      0.44      0.39       826\n",
            "           5       0.96      0.53      0.68      2422\n",
            "\n",
            "    accuracy                           0.51      3284\n",
            "   macro avg       0.29      0.38      0.26      3284\n",
            "weighted avg       0.80      0.51      0.60      3284\n",
            "\n",
            "0.5085261875761267\n",
            " RF Classifier result:\n",
            "None\n"
          ],
          "name": "stdout"
        },
        {
          "output_type": "stream",
          "text": [
            "/usr/local/lib/python3.6/dist-packages/sklearn/metrics/_classification.py:1272: UndefinedMetricWarning: Recall and F-score are ill-defined and being set to 0.0 in labels with no true samples. Use `zero_division` parameter to control this behavior.\n",
            "  _warn_prf(average, modifier, msg_start, len(result))\n"
          ],
          "name": "stderr"
        }
      ]
    },
    {
      "cell_type": "markdown",
      "metadata": {
        "id": "zyKLfY8E2VE5"
      },
      "source": [
        "**Building and evaluating a model using balanced data**"
      ]
    },
    {
      "cell_type": "markdown",
      "metadata": {
        "id": "lnzCHsoQ2l3m"
      },
      "source": [
        "**Passing SMOTE**"
      ]
    },
    {
      "cell_type": "code",
      "metadata": {
        "colab": {
          "base_uri": "https://localhost:8080/"
        },
        "id": "SsHfHkO7zDgK",
        "outputId": "0f34502c-1a4d-46a8-cb43-2120e0766a4f"
      },
      "source": [
        "print(NB_Classifier_result(X_sm, y_sm,X_test_dtm,y_test))\n",
        "print(LG_Classifier_result(X_sm, y_sm,X_test_dtm,y_test))\n",
        "print(SVM_Classifier_result(X_sm, y_sm,X_test_dtm,y_test))\n",
        "print(XG_Classifier_result(X_sm, y_sm,X_test_dtm,y_test))\n",
        "print(SGD_Classifier_result(X_sm, y_sm,X_test_dtm,y_test))\n",
        "print(RF_Classifier_result(X_sm, y_sm,X_test_dtm,y_test))\n"
      ],
      "execution_count": 39,
      "outputs": [
        {
          "output_type": "stream",
          "text": [
            "/usr/local/lib/python3.6/dist-packages/sklearn/metrics/_classification.py:1272: UndefinedMetricWarning: Recall and F-score are ill-defined and being set to 0.0 in labels with no true samples. Use `zero_division` parameter to control this behavior.\n",
            "  _warn_prf(average, modifier, msg_start, len(result))\n"
          ],
          "name": "stderr"
        },
        {
          "output_type": "stream",
          "text": [
            "              precision    recall  f1-score   support\n",
            "\n",
            "           1       0.31      0.77      0.44        96\n",
            "           2       0.00      0.50      0.01         2\n",
            "           3       0.00      0.00      0.00         0\n",
            "           4       0.72      0.38      0.50      1948\n",
            "           5       0.68      0.73      0.70      1238\n",
            "\n",
            "    accuracy                           0.52      3284\n",
            "   macro avg       0.34      0.48      0.33      3284\n",
            "weighted avg       0.69      0.52      0.57      3284\n",
            "\n",
            "0.5228380024360536\n",
            "NB Classifier result:\n",
            "None\n"
          ],
          "name": "stdout"
        },
        {
          "output_type": "stream",
          "text": [
            "/usr/local/lib/python3.6/dist-packages/sklearn/linear_model/_logistic.py:940: ConvergenceWarning: lbfgs failed to converge (status=1):\n",
            "STOP: TOTAL NO. of ITERATIONS REACHED LIMIT.\n",
            "\n",
            "Increase the number of iterations (max_iter) or scale the data as shown in:\n",
            "    https://scikit-learn.org/stable/modules/preprocessing.html\n",
            "Please also refer to the documentation for alternative solver options:\n",
            "    https://scikit-learn.org/stable/modules/linear_model.html#logistic-regression\n",
            "  extra_warning_msg=_LOGISTIC_SOLVER_CONVERGENCE_MSG)\n"
          ],
          "name": "stderr"
        },
        {
          "output_type": "stream",
          "text": [
            "              precision    recall  f1-score   support\n",
            "\n",
            "           1       0.66      0.42      0.52       374\n",
            "           2       0.29      0.41      0.34       217\n",
            "           3       0.26      0.41      0.32       233\n",
            "           4       0.54      0.56      0.55      1000\n",
            "           5       0.79      0.72      0.75      1460\n",
            "\n",
            "    accuracy                           0.60      3284\n",
            "   macro avg       0.51      0.51      0.50      3284\n",
            "weighted avg       0.63      0.60      0.61      3284\n",
            "\n",
            "0.595006090133983\n",
            " LG Classifier result:\n",
            "None\n",
            "              precision    recall  f1-score   support\n",
            "\n",
            "           1       0.62      0.37      0.46       403\n",
            "           2       0.25      0.37      0.30       219\n",
            "           3       0.22      0.39      0.28       212\n",
            "           4       0.49      0.53      0.51       945\n",
            "           5       0.78      0.69      0.73      1505\n",
            "\n",
            "    accuracy                           0.56      3284\n",
            "   macro avg       0.47      0.47      0.46      3284\n",
            "weighted avg       0.60      0.56      0.58      3284\n",
            "\n",
            "0.5627283800243605\n",
            " SVM Classifier result:\n",
            "None\n",
            "              precision    recall  f1-score   support\n",
            "\n",
            "           1       0.56      0.58      0.57       233\n",
            "           2       0.24      0.41      0.30       185\n",
            "           3       0.17      0.42      0.25       152\n",
            "           4       0.53      0.50      0.51      1083\n",
            "           5       0.81      0.66      0.73      1631\n",
            "\n",
            "    accuracy                           0.58      3284\n",
            "   macro avg       0.46      0.51      0.47      3284\n",
            "weighted avg       0.64      0.58      0.60      3284\n",
            "\n",
            "0.5764311814859927\n",
            " XGB Classifier result:\n",
            "None\n",
            "              precision    recall  f1-score   support\n",
            "\n",
            "           1       0.67      0.36      0.47       439\n",
            "           2       0.21      0.40      0.28       166\n",
            "           3       0.22      0.36      0.27       221\n",
            "           4       0.55      0.56      0.55      1011\n",
            "           5       0.75      0.69      0.72      1447\n",
            "\n",
            "    accuracy                           0.57      3284\n",
            "   macro avg       0.48      0.48      0.46      3284\n",
            "weighted avg       0.62      0.57      0.58      3284\n",
            "\n",
            "0.5709500609013398\n",
            " SGD Classifier result:\n",
            "None\n"
          ],
          "name": "stdout"
        },
        {
          "output_type": "stream",
          "text": [
            "/usr/local/lib/python3.6/dist-packages/sklearn/metrics/_classification.py:1272: UndefinedMetricWarning: Recall and F-score are ill-defined and being set to 0.0 in labels with no true samples. Use `zero_division` parameter to control this behavior.\n",
            "  _warn_prf(average, modifier, msg_start, len(result))\n"
          ],
          "name": "stderr"
        },
        {
          "output_type": "stream",
          "text": [
            "              precision    recall  f1-score   support\n",
            "\n",
            "           1       0.59      0.36      0.45       390\n",
            "           2       0.00      0.00      0.00         0\n",
            "           3       0.00      0.00      0.00         0\n",
            "           4       0.23      0.49      0.32       491\n",
            "           5       0.94      0.52      0.67      2403\n",
            "\n",
            "    accuracy                           0.50      3284\n",
            "   macro avg       0.35      0.28      0.29      3284\n",
            "weighted avg       0.80      0.50      0.59      3284\n",
            "\n",
            "0.4981729598051157\n",
            " RF Classifier result:\n",
            "None\n"
          ],
          "name": "stdout"
        }
      ]
    },
    {
      "cell_type": "markdown",
      "metadata": {
        "id": "ei_BpPnx28YR"
      },
      "source": [
        "**Passing Random over sampler**"
      ]
    },
    {
      "cell_type": "code",
      "metadata": {
        "colab": {
          "base_uri": "https://localhost:8080/"
        },
        "id": "naKsnJrCzDot",
        "outputId": "f042e53b-0f7b-4c2c-e738-6355ba4cbb68"
      },
      "source": [
        "print(NB_Classifier_result(X_ros, y_ros,X_test_dtm,y_test))\n",
        "print(LG_Classifier_result(X_ros, y_ros,X_test_dtm,y_test))\n",
        "print(SVM_Classifier_result(X_ros, y_ros,X_test_dtm,y_test))\n",
        "print(XG_Classifier_result(X_ros, y_ros,X_test_dtm,y_test))\n",
        "print(SGD_Classifier_result(X_ros, y_ros,X_test_dtm,y_test))\n",
        "print(RF_Classifier_result(X_ros, y_ros,X_test_dtm,y_test))"
      ],
      "execution_count": null,
      "outputs": [
        {
          "output_type": "stream",
          "text": [
            "              precision    recall  f1-score   support\n",
            "\n",
            "           1       0.46      0.54      0.50       206\n",
            "           2       0.33      0.33      0.33       316\n",
            "           3       0.24      0.29      0.26       302\n",
            "           4       0.72      0.47      0.57      1581\n",
            "           5       0.52      0.79      0.63       879\n",
            "\n",
            "    accuracy                           0.53      3284\n",
            "   macro avg       0.46      0.48      0.46      3284\n",
            "weighted avg       0.57      0.53      0.53      3284\n",
            "\n",
            "0.5292326431181485\n",
            "NB Classifier result:\n",
            "None\n"
          ],
          "name": "stdout"
        },
        {
          "output_type": "stream",
          "text": [
            "/usr/local/lib/python3.6/dist-packages/sklearn/linear_model/_logistic.py:940: ConvergenceWarning: lbfgs failed to converge (status=1):\n",
            "STOP: TOTAL NO. of ITERATIONS REACHED LIMIT.\n",
            "\n",
            "Increase the number of iterations (max_iter) or scale the data as shown in:\n",
            "    https://scikit-learn.org/stable/modules/preprocessing.html\n",
            "Please also refer to the documentation for alternative solver options:\n",
            "    https://scikit-learn.org/stable/modules/linear_model.html#logistic-regression\n",
            "  extra_warning_msg=_LOGISTIC_SOLVER_CONVERGENCE_MSG)\n"
          ],
          "name": "stderr"
        },
        {
          "output_type": "stream",
          "text": [
            "              precision    recall  f1-score   support\n",
            "\n",
            "           1       0.64      0.61      0.62       252\n",
            "           2       0.32      0.39      0.35       256\n",
            "           3       0.30      0.35      0.32       311\n",
            "           4       0.52      0.55      0.54       981\n",
            "           5       0.80      0.71      0.75      1484\n",
            "\n",
            "    accuracy                           0.60      3284\n",
            "   macro avg       0.51      0.52      0.52      3284\n",
            "weighted avg       0.62      0.60      0.61      3284\n",
            "\n",
            "0.5971376370280146\n",
            " LG Classifier result:\n",
            "None\n"
          ],
          "name": "stdout"
        },
        {
          "output_type": "stream",
          "text": [
            "/usr/local/lib/python3.6/dist-packages/sklearn/svm/_base.py:947: ConvergenceWarning: Liblinear failed to converge, increase the number of iterations.\n",
            "  \"the number of iterations.\", ConvergenceWarning)\n"
          ],
          "name": "stderr"
        },
        {
          "output_type": "stream",
          "text": [
            "              precision    recall  f1-score   support\n",
            "\n",
            "           1       0.57      0.63      0.60       219\n",
            "           2       0.25      0.38      0.30       213\n",
            "           3       0.26      0.38      0.31       255\n",
            "           4       0.52      0.53      0.53      1025\n",
            "           5       0.80      0.67      0.73      1572\n",
            "\n",
            "    accuracy                           0.58      3284\n",
            "   macro avg       0.48      0.52      0.49      3284\n",
            "weighted avg       0.62      0.58      0.60      3284\n",
            "\n",
            "0.5840438489646772\n",
            " SVM Classifier result:\n",
            "None\n"
          ],
          "name": "stdout"
        }
      ]
    },
    {
      "cell_type": "markdown",
      "metadata": {
        "id": "3NrPULVh3VLQ"
      },
      "source": [
        "\n",
        "**passing Random under sampler**"
      ]
    },
    {
      "cell_type": "code",
      "metadata": {
        "id": "8HsANz3dzDsR"
      },
      "source": [
        "print(NB_Classifier_result(X_rus, y_rus,X_test_dtm,y_test))\n",
        "print(LG_Classifier_result(X_rus, y_rus,X_test_dtm,y_test))\n",
        "print(SVM_Classifier_result(X_rus, y_rus,X_test_dtm,y_test))\n",
        "print(XG_Classifier_result(X_rus, y_rus,X_test_dtm,y_test))\n",
        "print(SGD_Classifier_result(X_rus, y_rus,X_test_dtm,y_test))\n",
        "print(RF_Classifier_result(X_rus, y_rus,X_test_dtm,y_test))"
      ],
      "execution_count": 35,
      "outputs": []
    },
    {
      "cell_type": "markdown",
      "metadata": {
        "id": "z0fz7lqV3vNL"
      },
      "source": [
        "\n",
        "**TomekLinks**"
      ]
    },
    {
      "cell_type": "code",
      "metadata": {
        "id": "usPi7ofPzDwP"
      },
      "source": [
        "print(NB_Classifier_result(X_tl,y_tl,X_test_dtm,y_test))\n",
        "print(LG_Classifier_result(X_tl,y_tl,X_test_dtm,y_test))\n",
        "print(SVM_Classifier_result(X_tl,y_tl,X_test_dtm,y_test))\n",
        "print(XG_Classifier_result(X_tl,y_tl,X_test_dtm,y_test))\n",
        "print(SGD_Classifier_result(X_tl,y_tl,X_test_dtm,y_test))\n",
        "print(RF_Classifier_result(X_tl,y_tl,X_test_dtm,y_test))\n"
      ],
      "execution_count": 35,
      "outputs": []
    },
    {
      "cell_type": "markdown",
      "metadata": {
        "id": "BNBbboXp3_-D"
      },
      "source": [
        "**SMOTETomek**"
      ]
    },
    {
      "cell_type": "code",
      "metadata": {
        "id": "izlQWwnrzD0Y"
      },
      "source": [
        "print(NB_Classifier_result(X_smt,y_smt,X_test_dtm,y_test))\n",
        "print(LG_Classifier_result(X_smt,y_smt,X_test_dtm,y_test))\n",
        "print(SVM_Classifier_result(X_smt,y_smt,X_test_dtm,y_test))\n",
        "print(XG_Classifier_result(X_smt,y_smt,X_test_dtm,y_test))\n",
        "print(SGD_Classifier_result(X_smt,y_smt,X_test_dtm,y_test))\n",
        "print(RF_Classifier_result(X_smt,y_smt,X_test_dtm,y_test))"
      ],
      "execution_count": 35,
      "outputs": []
    },
    {
      "cell_type": "markdown",
      "metadata": {
        "id": "TUfcnnfQ4LJ_"
      },
      "source": [
        "**TF-IDF approach**"
      ]
    },
    {
      "cell_type": "code",
      "metadata": {
        "id": "Uv94Avp84YFt"
      },
      "source": [
        "vectorizer = TfidfVectorizer(tokenizer=word_tokenize,stop_words=stop, lowercase=False, ngram_range=(1,2))"
      ],
      "execution_count": null,
      "outputs": []
    }
  ]
}